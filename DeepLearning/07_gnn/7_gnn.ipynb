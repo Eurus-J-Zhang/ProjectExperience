{
  "nbformat": 4,
  "nbformat_minor": 0,
  "metadata": {
    "kernelspec": {
      "display_name": "Python 3",
      "language": "python",
      "name": "python3"
    },
    "language_info": {
      "codemirror_mode": {
        "name": "ipython",
        "version": 3
      },
      "file_extension": ".py",
      "mimetype": "text/x-python",
      "name": "python",
      "nbconvert_exporter": "python",
      "pygments_lexer": "ipython3",
      "version": "3.7.3"
    },
    "varInspector": {
      "cols": {
        "lenName": 16,
        "lenType": 16,
        "lenVar": 40
      },
      "kernels_config": {
        "python": {
          "delete_cmd_postfix": "",
          "delete_cmd_prefix": "del ",
          "library": "var_list.py",
          "varRefreshCmd": "print(var_dic_list())"
        },
        "r": {
          "delete_cmd_postfix": ") ",
          "delete_cmd_prefix": "rm(",
          "library": "var_list.r",
          "varRefreshCmd": "cat(var_dic_list()) "
        }
      },
      "types_to_exclude": [
        "module",
        "function",
        "builtin_function_or_method",
        "instance",
        "_Feature"
      ],
      "window_display": false
    },
    "colab": {
      "name": "7_gnn.ipynb",
      "provenance": []
    },
    "accelerator": "GPU"
  },
  "cells": [
    {
      "cell_type": "markdown",
      "metadata": {
        "deletable": false,
        "editable": false,
        "nbgrader": {
          "cell_type": "markdown",
          "checksum": "0cebdfae10013d8a6ecd01a6067bb0e4",
          "grade": false,
          "grade_id": "cell-bdc2c3e9281cbcf7",
          "locked": true,
          "schema_version": 3,
          "solution": false,
          "task": false
        },
        "id": "Mcjjt53XGT8P"
      },
      "source": [
        "<div class=\"alert alert-block alert-info\">\n",
        "<b>Number of points for this notebook:</b> 4\n",
        "<br>\n",
        "<b>Deadline:</b> April 20, 2020 (Monday). 23:00\n",
        "</div>\n",
        "\n",
        "# Exercise 7. Graph neural networks. Recurrent relational network\n",
        "\n",
        "The goal of this exercise is to get familiar with graph neural networks.\n",
        "\n",
        "We will implement a simplified version of the recurrent relational network proposed in [this paper](http://papers.nips.cc/paper/7597-recurrent-relational-networks.pdf)."
      ]
    },
    {
      "cell_type": "code",
      "metadata": {
        "id": "uFjtPgT1GT8S"
      },
      "source": [
        "skip_training = False  # Set this flag to True before validation and submission"
      ],
      "execution_count": null,
      "outputs": []
    },
    {
      "cell_type": "code",
      "metadata": {
        "deletable": false,
        "editable": false,
        "nbgrader": {
          "cell_type": "code",
          "checksum": "165a01ef494feb7adc44522e39794f71",
          "grade": true,
          "grade_id": "cell-f455db2a64cfbc10",
          "locked": true,
          "points": 0,
          "schema_version": 3,
          "solution": false,
          "task": false
        },
        "id": "WaEUzvzqGT8c"
      },
      "source": [
        "# During evaluation, this cell sets skip_training to True\n",
        "# skip_training = True"
      ],
      "execution_count": null,
      "outputs": []
    },
    {
      "cell_type": "code",
      "metadata": {
        "id": "ivhG-b0PGT8m"
      },
      "source": [
        "import time\n",
        "import torch\n",
        "import numpy as np\n",
        "import matplotlib.pyplot as plt\n",
        "\n",
        "import torch.nn as nn\n",
        "import torch.nn.functional as F\n",
        "import torch.optim as optim\n",
        "from torch.utils.data import TensorDataset, DataLoader\n",
        "\n",
        "import tools\n",
        "import tests"
      ],
      "execution_count": null,
      "outputs": []
    },
    {
      "cell_type": "code",
      "metadata": {
        "id": "tfRXdCmaGT8u",
        "colab": {
          "base_uri": "https://localhost:8080/",
          "height": 34
        },
        "outputId": "25a1b34c-2478-4365-8631-c5aafff66f96"
      },
      "source": [
        "# When running on your own computer, you can specify the data directory by:\n",
        "# data_dir = tools.select_data_dir('/your/local/data/directory')\n",
        "data_dir = tools.select_data_dir()"
      ],
      "execution_count": null,
      "outputs": [
        {
          "output_type": "stream",
          "text": [
            "The data directory is ../data\n"
          ],
          "name": "stdout"
        }
      ]
    },
    {
      "cell_type": "code",
      "metadata": {
        "id": "6kfbKGHcGT82"
      },
      "source": [
        "# Select the device for training (use GPU if you have one)\n",
        "#device = torch.device('cuda:0')\n",
        "device = torch.device('cuda:0')"
      ],
      "execution_count": null,
      "outputs": []
    },
    {
      "cell_type": "code",
      "metadata": {
        "deletable": false,
        "editable": false,
        "nbgrader": {
          "cell_type": "code",
          "checksum": "c000e09278f7a11b4e0ec6c55586f179",
          "grade": false,
          "grade_id": "cell-dbefffd6c1ecd0e6",
          "locked": true,
          "schema_version": 3,
          "solution": false,
          "task": false
        },
        "id": "A3jP7uV9GT89"
      },
      "source": [
        "if skip_training:\n",
        "    # The models are always evaluated on CPU\n",
        "    device = torch.device(\"cpu\")"
      ],
      "execution_count": null,
      "outputs": []
    },
    {
      "cell_type": "markdown",
      "metadata": {
        "deletable": false,
        "editable": false,
        "nbgrader": {
          "cell_type": "markdown",
          "checksum": "94ff585d623e04d102c3c10b5db7b007",
          "grade": false,
          "grade_id": "cell-0a18248531b242c1",
          "locked": true,
          "schema_version": 3,
          "solution": false,
          "task": false
        },
        "id": "SNz_VhpnGT9D"
      },
      "source": [
        "# Data\n",
        "\n",
        "The dataset is a set of sudoku puzzles with solutions obtained from [here](https://github.com/locuslab/SATNet)."
      ]
    },
    {
      "cell_type": "code",
      "metadata": {
        "deletable": false,
        "editable": false,
        "nbgrader": {
          "cell_type": "code",
          "checksum": "dd73ac621312a3d8a78f419b3fca1cdf",
          "grade": false,
          "grade_id": "cell-52fd7fdb88c05e1e",
          "locked": true,
          "schema_version": 3,
          "solution": false,
          "task": false
        },
        "id": "6Ify7AOmGT9E",
        "colab": {
          "base_uri": "https://localhost:8080/",
          "height": 34
        },
        "outputId": "bd5f6ef5-7908-4668-a241-6373d40a8759"
      },
      "source": [
        "import data\n",
        "trainset = data.Sudoku(data_dir, train=True)\n",
        "testset = data.Sudoku(data_dir, train=False)\n",
        "\n",
        "x, y = trainset[0]\n",
        "print(x.shape, y.shape)"
      ],
      "execution_count": null,
      "outputs": [
        {
          "output_type": "stream",
          "text": [
            "torch.Size([81, 9]) torch.Size([81])\n"
          ],
          "name": "stdout"
        }
      ]
    },
    {
      "cell_type": "markdown",
      "metadata": {
        "deletable": false,
        "editable": false,
        "nbgrader": {
          "cell_type": "markdown",
          "checksum": "64a0bbff6d55d8c116ee56ffe1519387",
          "grade": false,
          "grade_id": "cell-bfa379ded9e81dfd",
          "locked": true,
          "schema_version": 3,
          "solution": false,
          "task": false
        },
        "id": "SgKJWzIOGT9I"
      },
      "source": [
        "We can visualize the data in the following way."
      ]
    },
    {
      "cell_type": "code",
      "metadata": {
        "deletable": false,
        "editable": false,
        "nbgrader": {
          "cell_type": "code",
          "checksum": "ff65b8023528777e754d64da0b829040",
          "grade": false,
          "grade_id": "cell-e2ec662ae3e456cf",
          "locked": true,
          "schema_version": 3,
          "solution": false,
          "task": false
        },
        "id": "UPUpyVzUGT9K"
      },
      "source": [
        "def sudoku_to_labels(x):\n",
        "    \"\"\"Convert one-hot coded sudoku puzzles to labels. -1 corresponds to missing labels.\n",
        "    \n",
        "    Args:\n",
        "      x of shape (n_rows=9, n_colums=9, n_digits=9): Tensor with a sudoku board. The digits are one-hot coded.\n",
        "                  Cells with unknown digits have all zeros along the third dimension.\n",
        "    \"\"\"\n",
        "    assert x.shape == torch.Size([9, 9, 9]), \"Wrong shape {}\".format(x.shape)\n",
        "    is_filled = x.sum(dim=2)\n",
        "    y = x.argmax(dim=2)\n",
        "    y[~is_filled.bool()] = -1\n",
        "    return y"
      ],
      "execution_count": null,
      "outputs": []
    },
    {
      "cell_type": "code",
      "metadata": {
        "deletable": false,
        "editable": false,
        "nbgrader": {
          "cell_type": "code",
          "checksum": "bbec24d9865256c37ebb9cdd850ba994",
          "grade": false,
          "grade_id": "cell-f65b460624d547c2",
          "locked": true,
          "schema_version": 3,
          "solution": false,
          "task": false
        },
        "id": "tXOFSsZRGT9Q",
        "colab": {
          "base_uri": "https://localhost:8080/",
          "height": 173
        },
        "outputId": "9b469a5d-9107-47d0-e382-77a999160bb0"
      },
      "source": [
        "print(sudoku_to_labels(x.view(9, 9, 9)))"
      ],
      "execution_count": null,
      "outputs": [
        {
          "output_type": "stream",
          "text": [
            "tensor([[ 5,  6, -1, -1, -1, -1, -1, -1,  4],\n",
            "        [-1, -1,  2, -1,  3, -1, -1,  7,  1],\n",
            "        [-1,  3, -1, -1, -1,  4,  0,  2,  5],\n",
            "        [-1, -1, -1,  6,  2, -1, -1,  8, -1],\n",
            "        [ 2, -1,  3,  1, -1,  5, -1,  6, -1],\n",
            "        [-1, -1,  0, -1,  8, -1,  5, -1, -1],\n",
            "        [ 4, -1,  8, -1, -1,  7, -1, -1, -1],\n",
            "        [-1, -1, -1,  8,  4, -1,  1, -1,  7],\n",
            "        [-1, -1, -1,  0,  1,  6,  3, -1, -1]])\n"
          ],
          "name": "stdout"
        }
      ]
    },
    {
      "cell_type": "code",
      "metadata": {
        "deletable": false,
        "editable": false,
        "nbgrader": {
          "cell_type": "code",
          "checksum": "7b67d8b0b725f17eeb7367b2d043cdad",
          "grade": false,
          "grade_id": "cell-97be4a389937532c",
          "locked": true,
          "schema_version": 3,
          "solution": false,
          "task": false
        },
        "id": "ESp77NRXGT9V",
        "colab": {
          "base_uri": "https://localhost:8080/",
          "height": 411
        },
        "outputId": "e383278e-ab87-46fa-a321-c01fa7767f40"
      },
      "source": [
        "tools.draw_sudoku(x.view(9, 9, 9), logits=False)"
      ],
      "execution_count": null,
      "outputs": [
        {
          "output_type": "display_data",
          "data": {
            "image/png": "[encoded data removed]",
            "text/plain": [
              "<Figure size 504x504 with 1 Axes>"
            ]
          },
          "metadata": {
            "tags": [],
            "needs_background": "light"
          }
        }
      ]
    },
    {
      "cell_type": "markdown",
      "metadata": {
        "deletable": false,
        "editable": false,
        "nbgrader": {
          "cell_type": "markdown",
          "checksum": "08d294b37a7ee625627538b69d76409d",
          "grade": false,
          "grade_id": "cell-eb45c36fad255047",
          "locked": true,
          "schema_version": 3,
          "solution": false,
          "task": false
        },
        "id": "W-u-EDffGT9a"
      },
      "source": [
        "## Graph\n",
        "\n",
        "We describe each sudoku puzzle as a graph in which each node corresponds to one of the 9*9=81 cells in the puzzle. Each node is connected to 8+8+8-4=20 other nodes:\n",
        "* 8 nodes that correspond to other cells in the same row\n",
        "* 8 nodes that correspond to other cells in the same column\n",
        "* 8 nodes that correspond to other cells in the same $3\\times 3$ box\n",
        "* 4 cells appear both in a $3\\times 3$ box and in the same row or column.\n",
        "\n",
        "In this exercise, we decribe a graph as a set of edges. Each edge is a pair (`src_id`, `dst_id`) where `src_id` is the id of the source node and `dst_id` is the id of the destination node. In the cell below, your task is to describe such a graph by producing two lists:\n",
        "* a list of source node ids `src_id` of all edges\n",
        "* a list of destination node ids `dst_id` of all edges\n",
        "\n",
        "Note: Our tests assume that node ids are between 0 and 80. Please follow this convention."
      ]
    },
    {
      "cell_type": "code",
      "metadata": {
        "deletable": false,
        "nbgrader": {
          "cell_type": "code",
          "checksum": "4077620ddab623a5dfc8520783ef7dce",
          "grade": false,
          "grade_id": "sudoku_edges",
          "locked": false,
          "schema_version": 3,
          "solution": true,
          "task": false
        },
        "id": "47kCOd6DGT9c"
      },
      "source": [
        "from functools import reduce\n",
        "\n",
        "def find_square_idxs(idx):\n",
        "    sr = (idx // 9) // 3\n",
        "    sc = (idx % 9) // 3\n",
        "    return [27*sr + 3*sc + 9*j + i for j in range(3) for i in range(3)]\n",
        "\n",
        "def find_row_idxs(idx):\n",
        "    r = (idx // 9)\n",
        "    return [9*r + i for i in range(9)]\n",
        "\n",
        "def find_col_idxs(idx):\n",
        "    c = (idx % 9)\n",
        "    return [9*i + c for i in range(9)]\n",
        "\n",
        "def find_neighbourhood(idx):\n",
        "    return set(find_square_idxs(idx) + find_row_idxs(idx) + find_col_idxs(idx)) - {idx}\n",
        "\n",
        "def sudoku_edges():\n",
        "    \"\"\"Generate edges of the graph describing the sudoku puzzle.\n",
        "    \n",
        "    Returns:\n",
        "      src_ids: LongTensor of length 1620 with source node ids of all the edges in the graph.\n",
        "      dst_ids: LongTensor of length 1620 with destination node ids of all the edges in the graph\n",
        "    \n",
        "    Note: Our tests assume that node ids are between 0 and 80. Please follow this convention.\n",
        "    \"\"\"\n",
        "    # YOUR CODE HERE\n",
        "    src_ids = torch.tensor(\n",
        "        [i for i in range(81) for _ in range(20)], \n",
        "        dtype=torch.long\n",
        "    ).to(device)\n",
        "    \n",
        "    dst_ids = torch.tensor(\n",
        "        reduce(lambda acc, i: acc + list(find_neighbourhood(i)), range(81), []),\n",
        "        dtype=torch.long\n",
        "    ).to(device)\n",
        "    \n",
        "    return src_ids, dst_ids"
      ],
      "execution_count": null,
      "outputs": []
    },
    {
      "cell_type": "code",
      "metadata": {
        "deletable": false,
        "editable": false,
        "nbgrader": {
          "cell_type": "code",
          "checksum": "34cae234fbd66c08bf5f4e17d820f122",
          "grade": true,
          "grade_id": "test_sudoku_edges",
          "locked": true,
          "points": 1,
          "schema_version": 3,
          "solution": false,
          "task": false
        },
        "id": "9idVnXOEGT9g",
        "colab": {
          "base_uri": "https://localhost:8080/",
          "height": 34
        },
        "outputId": "6c170360-2338-4ee1-8a3b-8c552ff8aed5"
      },
      "source": [
        "sudoku_src_ids, sudoku_dst_ids = sudoku_edges()\n",
        "print('Number of edges in each sudoku graph: %d' % len(sudoku_src_ids))\n",
        "assert sudoku_src_ids.dtype == torch.long and sudoku_dst_ids.dtype == torch.long\n",
        "assert len(sudoku_src_ids) == len(sudoku_dst_ids), \"The number of source and destination nodes should be same.\"\n",
        "assert len(sudoku_src_ids) == 1620, \"Wrong number of edges ({}), expected: 1620\".format(len(sudoku_src_ids))\n",
        "assert min(sudoku_src_ids) == 0 and max(sudoku_src_ids) == 80, \"Node ids should be between 0 and 80\"\n",
        "assert min(sudoku_dst_ids) == 0 and max(sudoku_dst_ids) == 80, \"Node ids should be between 0 and 80\""
      ],
      "execution_count": null,
      "outputs": [
        {
          "output_type": "stream",
          "text": [
            "Number of edges in each sudoku graph: 1620\n"
          ],
          "name": "stdout"
        }
      ]
    },
    {
      "cell_type": "markdown",
      "metadata": {
        "deletable": false,
        "editable": false,
        "nbgrader": {
          "cell_type": "markdown",
          "checksum": "bafa92a659e4426064de9fd6fb3b33d9",
          "grade": false,
          "grade_id": "cell-6853a7c321a2b836",
          "locked": true,
          "schema_version": 3,
          "solution": false,
          "task": false
        },
        "id": "Bln7Jxj9GT9m"
      },
      "source": [
        "## Custom data loader\n",
        "\n",
        "We first create a custom data loader to process a mini-batch of graphs (in parallel) to compute the derivatives wrt the parameters of the graph neural network. To do that, **we transform a mini-batch of graphs to one large graph without interconnecting edges between the subgraphs corresponding to individual examples in the mini-batch.** We do this using a custom collate function that you need to implement in the cell below."
      ]
    },
    {
      "cell_type": "code",
      "metadata": {
        "deletable": false,
        "nbgrader": {
          "cell_type": "code",
          "checksum": "b744c606e3430b65f3e97234b4c18ade",
          "grade": false,
          "grade_id": "cell-e6452aa2777d9e21",
          "locked": false,
          "schema_version": 3,
          "solution": true,
          "task": false
        },
        "id": "F-MTZOWjGT9o"
      },
      "source": [
        "sudoku_src_ids, sudoku_dst_ids = sudoku_edges()\n",
        "\n",
        "def collate(list_of_samples):\n",
        "    \"\"\"Merges a list of samples to form a mini-batch.\n",
        "\n",
        "    Args:\n",
        "      list_of_samples is a list of tuples (inputs, targets),\n",
        "          inputs of shape (n_nodes, 9): Inputs to each node in the graph. Inputs are one-hot coded digits\n",
        "              in the sudoku puzzle. A missing digit is encoded with all zeros. n_nodes=81 for the sudoku graph.\n",
        "          targets of shape (n_nodes): A LongTensor of targets (correct digits in the sudoku puzzle).\n",
        "\n",
        "    Returns:\n",
        "      inputs of shape (batch_size*n_nodes, 9): Inputs to each node in the graph. Inputs are one-hot coded digits\n",
        "          in the sudoku puzzle. A missing digit is encoded with all zeros. n_nodes=81 for the sudoku graph.\n",
        "      targets of shape (batch_size*n_nodes): A LongTensor of targets (correct digits in the sudoku puzzle).\n",
        "      src_ids of shape (batch_size*1620): LongTensor of source node ids for each edge in the large graph.\n",
        "          The source ids should be between 0 and batch_size * 81.\n",
        "      dst_ids of shape (batch_size*1620): LongTensor of destination node ids for each edge in the large graph.\n",
        "          The destination ids should be between 0 and batch_size * 81.\n",
        "    \"\"\"\n",
        "    # YOUR CODE HERE\n",
        "    n_nodes = 81\n",
        "    batch_size = len(list_of_samples)\n",
        "    \n",
        "    inputs_list, targets_list = zip(*list_of_samples)\n",
        "\n",
        "    inputs = torch.cat(inputs_list).view(batch_size*n_nodes, 9).to(device)\n",
        "    targets = torch.cat(targets_list).flatten().type(torch.long).to(device)\n",
        "    \n",
        "    src_ids = torch.cat([sudoku_src_ids + 81*i for i in range(batch_size)]).to(device)\n",
        "    dst_ids = torch.cat([sudoku_dst_ids + 81*i for i in range(batch_size)]).to(device)\n",
        "    \n",
        "    return inputs, targets, src_ids, dst_ids\n",
        "    "
      ],
      "execution_count": null,
      "outputs": []
    },
    {
      "cell_type": "code",
      "metadata": {
        "deletable": false,
        "editable": false,
        "nbgrader": {
          "cell_type": "code",
          "checksum": "3707026bb0be2ad18b17cdeb98313c55",
          "grade": false,
          "grade_id": "cell-4ab2b243c07d8d74",
          "locked": true,
          "schema_version": 3,
          "solution": false,
          "task": false
        },
        "id": "95vHr7XpGT9r",
        "colab": {
          "base_uri": "https://localhost:8080/",
          "height": 34
        },
        "outputId": "5d9710d1-05c6-497e-f0ff-4dd5a6f86358"
      },
      "source": [
        "def test_collate_shapes():\n",
        "    batch_size = 2\n",
        "    n_nodes = 81\n",
        "    inputs, targets, src_ids, dst_ids = collate([trainset[0], trainset[1]])\n",
        "    assert inputs.shape == torch.Size([batch_size*n_nodes, 9]), f\"Bad inputs.shape: {inputs.shape}\"\n",
        "    assert targets.shape == torch.Size([batch_size*n_nodes]), f\"Bad targets.shape: {targets.shape}\"\n",
        "    assert src_ids.shape == torch.Size([batch_size*1620]), f\"Bad src_ids.shape: {src_ids.shape}\"\n",
        "    assert dst_ids.shape == torch.Size([batch_size*1620]), f\"Bad dst_ids.shape: {dst_ids.shape}\"\n",
        "    assert min(src_ids) == 0 and max(src_ids) == batch_size*81-1\n",
        "    assert min(dst_ids) == 0 and max(dst_ids) == batch_size*81-1\n",
        "    print('Success')\n",
        "\n",
        "test_collate_shapes()"
      ],
      "execution_count": null,
      "outputs": [
        {
          "output_type": "stream",
          "text": [
            "Success\n"
          ],
          "name": "stdout"
        }
      ]
    },
    {
      "cell_type": "code",
      "metadata": {
        "deletable": false,
        "editable": false,
        "nbgrader": {
          "cell_type": "code",
          "checksum": "4769d712febf06f14101011cc65d4f57",
          "grade": false,
          "grade_id": "cell-db00541498ac6acf",
          "locked": true,
          "schema_version": 3,
          "solution": false,
          "task": false
        },
        "id": "bSNMntcrGT9w"
      },
      "source": [
        "trainloader = DataLoader(trainset, batch_size=16, collate_fn=collate)\n",
        "testloader = DataLoader(testset, batch_size=16, collate_fn=collate)"
      ],
      "execution_count": null,
      "outputs": []
    },
    {
      "cell_type": "markdown",
      "metadata": {
        "deletable": false,
        "editable": false,
        "nbgrader": {
          "cell_type": "markdown",
          "checksum": "a66946db9cd9530871e60fa6bc3cd479",
          "grade": false,
          "grade_id": "cell-e03d97e4ed3350c0",
          "locked": true,
          "schema_version": 3,
          "solution": false,
          "task": false
        },
        "id": "p-thuRFDGT91"
      },
      "source": [
        "<img src=\"recurrent_rn.png\" width=300 style=\"float: right;\">\n",
        "\n",
        "# Graph neural network\n",
        "\n",
        "You need to implement a graph neural network in the cell below. Its forward function consists of `n_iters` iterations with the following steps:\n",
        "* For each node, compute the messages from all its neighbors using the message network (see description below).\n",
        "* For each destination node, aggregate (by summation) all the messages sent by its neighbors. You may find it useful to use function [`index_add_`](https://pytorch.org/docs/stable/tensors.html#torch.Tensor.index_add_) for that.\n",
        "* The aggregated messages are concatenated with the node inputs to form the inputs of the gated recurrent units (GRUs) whose states represent the states of the nodes. The node inputs are one-hot coded digits 1-9 of the sudoku puzzle, a missing digit is encoded with all zeros. \n",
        "* The states of the GRUs are updated using the standard GRU computations.\n",
        "* The states of each graph node are linearly combined to compute the output of the corresponding node at the current iteration.\n",
        "\n",
        "**Note that since we combine all graphs in the mini-batch into a single graph using `collate()` function, we do not need to care about batches in our implementation of GNN.**\n",
        "\n",
        "\n",
        "### Message network\n",
        "\n",
        "* All messages are computed with the same message network (shared parameters).\n",
        "* The message network takes as inputs the states of the source node and the states of the destination node and produces a vector with `n_edge_features`.\n",
        "* We used as the message network a multilayer perceptron (MLP) network with the following architecture:\n",
        "  * hidden layer with 96 neurons and ReLU nonlinearity\n",
        "  * hidden layer with 96 neurons and ReLU nonlinearity\n",
        "  * output layer with `n_edge_features` output features.\n",
        "* **Important:** Our tests assume that the message network is defined as an attribute called `msg_net`, that is it can be accessed as follows:\n",
        "```\n",
        "gnn = GNN()\n",
        "print(gnn.msg_net)\n",
        "```\n",
        "\n",
        "### Notes\n",
        "\n",
        "* Please initialize the node states (before the first iteration) with all zeros.\n",
        "* The messages computed in the first iteration are not informative because they combine zero states."
      ]
    },
    {
      "cell_type": "code",
      "metadata": {
        "deletable": false,
        "nbgrader": {
          "cell_type": "code",
          "checksum": "380031a1cdb3b9f3802523ea06044814",
          "grade": false,
          "grade_id": "GNN",
          "locked": false,
          "schema_version": 3,
          "solution": true,
          "task": false
        },
        "id": "RQcwdk6qGT92"
      },
      "source": [
        "class GNN(nn.Module):\n",
        "    def __init__(self, n_iters=7, n_node_features=10, n_node_inputs=9, n_edge_features=11, n_node_outputs=9):\n",
        "        \"\"\"\n",
        "        Args:\n",
        "          n_iters: Number of graph iterations.\n",
        "          n_node_features: Number of features in the states of each node.\n",
        "          n_node_inputs: Number of inputs to each graph node (on each graph iteration).\n",
        "          n_edge_features: Number of features in the messages sent along the edges of the graph (produced\n",
        "              by the message network).\n",
        "          n_node_outputs: Number of outputs produced by at each node of the graph.\n",
        "        \"\"\"\n",
        "        super(GNN, self).__init__()\n",
        "        \n",
        "        self.n_iters = n_iters\n",
        "        self.n_node_features = n_node_features\n",
        "        self.n_node_inputs = n_node_inputs\n",
        "        self.n_edge_features = n_edge_features\n",
        "        self.n_node_outputs = n_node_outputs\n",
        "        \n",
        "        # YOUR CODE HERE\n",
        "        n_hidden_neurons = 96\n",
        "        self.msg_net = nn.Sequential(\n",
        "            nn.Linear(2*n_node_features, n_hidden_neurons),\n",
        "            nn.ReLU(),\n",
        "            nn.Linear(n_hidden_neurons, n_hidden_neurons),\n",
        "            nn.ReLU(),\n",
        "            nn.Linear(n_hidden_neurons, n_edge_features)\n",
        "        )\n",
        "        \n",
        "        self.gru = nn.GRU(n_node_inputs + n_edge_features, hidden_size=n_node_features)\n",
        "        \n",
        "        self.out = nn.Linear(n_node_features, n_node_outputs)\n",
        "        \n",
        "    def foward_messages(self, hidden, src_ids, dst_ids, n_nodes):\n",
        "        hidden_src = hidden[0, src_ids, :]\n",
        "        hidden_dst = hidden[0, dst_ids, :]\n",
        "        \n",
        "        msg_inputs = torch.cat((hidden_src, hidden_dst), -1)\n",
        "        messages = self.msg_net(msg_inputs)\n",
        "        \n",
        "        result = torch.zeros_like(messages).to(device)\n",
        "        result.index_add_(0, dst_ids, messages)\n",
        "\n",
        "        return result[:n_nodes, :]\n",
        "        \n",
        "        \n",
        "\n",
        "    def forward(self, node_inputs, src_ids, dst_ids):\n",
        "        \"\"\"\n",
        "        Args:\n",
        "          node_inputs of shape (n_nodes, n_node_inputs): Tensor of inputs to every node of the graph.\n",
        "          src_ids of shape (n_edges): Indices of source nodes of every edge.\n",
        "          dst_ids of shape (n_edges): Indices of destination nodes of every edge.\n",
        "          \n",
        "        Returns:\n",
        "          outputs of shape (n_iters, n_nodes, n_node_outputs): Outputs of all the nodes at every iteration of the\n",
        "              graph neural network.\n",
        "        \"\"\"\n",
        "        # YOUR CODE HERE\n",
        "        n_nodes, _ = node_inputs.size()\n",
        "        hidden = torch.zeros((1, n_nodes, self.n_node_features)).to(device)\n",
        "        \n",
        "        outputs = torch.empty(self.n_iters, n_nodes, self.n_node_outputs).to(device)\n",
        "        for i in range(self.n_iters):\n",
        "            messages = self.foward_messages(hidden, src_ids, dst_ids, n_nodes)\n",
        "            \n",
        "            gru_inputs = torch.cat((node_inputs, messages), 1).view(1, n_nodes, -1)\n",
        "            gru_outputs, hidden = self.gru(gru_inputs, hidden)\n",
        "            \n",
        "            outputs[i,:,:] = self.out(gru_outputs[0])\n",
        "            \n",
        "        return outputs"
      ],
      "execution_count": null,
      "outputs": []
    },
    {
      "cell_type": "code",
      "metadata": {
        "deletable": false,
        "editable": false,
        "nbgrader": {
          "cell_type": "code",
          "checksum": "ba83789d568c16e73add8dc76670ad98",
          "grade": false,
          "grade_id": "cell-11a931a6dc00b460",
          "locked": true,
          "schema_version": 3,
          "solution": false,
          "task": false
        },
        "id": "TbKQx_OFGT96"
      },
      "source": [
        "# Shape tests of the message network\n",
        "def test_GNN_msg_net():\n",
        "    src_ids, dst_ids = sudoku_edges()\n",
        "    src_ids, dst_ids = torch.LongTensor(src_ids), torch.LongTensor(dst_ids)\n",
        "    n_nodes = 81\n",
        "    n_edges = len(src_ids)\n",
        "    n_node_features = 5\n",
        "    n_edge_features = 6\n",
        "\n",
        "    gnn = GNN(n_iters=7, n_node_features=n_node_features, n_edge_features=n_edge_features)\n",
        "    msg_net_inputs = torch.zeros(n_edges, 2*n_node_features).to(device)\n",
        "    assert hasattr(gnn, 'msg_net'), \"Cannot find the message network.\"\n",
        "    messages = gnn.msg_net(msg_net_inputs)  # [n_edges, n_edge_features]\n",
        "    assert messages.shape == torch.Size([n_edges, n_edge_features]), f\"Bad messages.shape: {messages.shape}\"\n",
        "    print('Success')\n",
        "\n",
        "test_GNN_msg_net()"
      ],
      "execution_count": null,
      "outputs": []
    },
    {
      "cell_type": "code",
      "metadata": {
        "deletable": false,
        "editable": false,
        "nbgrader": {
          "cell_type": "code",
          "checksum": "82daac8447833ccfcb74b45fb82b6e76",
          "grade": false,
          "grade_id": "cell-6e6ddbc2c5573e68",
          "locked": true,
          "schema_version": 3,
          "solution": false,
          "task": false
        },
        "id": "K8n4ygk_GT9-"
      },
      "source": [
        "# Shape tests\n",
        "def test_GNN_shape():\n",
        "    src_ids, dst_ids = sudoku_edges()\n",
        "    src_ids, dst_ids = torch.LongTensor(src_ids), torch.LongTensor(dst_ids)\n",
        "    n_nodes = 81\n",
        "\n",
        "    gnn = GNN(n_iters=7)\n",
        "    node_inputs = torch.zeros([n_nodes, 9])\n",
        "    outputs = gnn(node_inputs, src_ids, dst_ids)  # [n_iters, batch*n_nodes, 9]\n",
        "    assert outputs.shape == torch.Size([gnn.n_iters, n_nodes, 9]), f\"Bad outputs.shape: {outputs.shape}\"\n",
        "    print('Success')\n",
        "\n",
        "test_GNN_shape()"
      ],
      "execution_count": null,
      "outputs": []
    },
    {
      "cell_type": "code",
      "metadata": {
        "deletable": false,
        "editable": false,
        "nbgrader": {
          "cell_type": "code",
          "checksum": "6a303c209d0189af564510b63013c883",
          "grade": true,
          "grade_id": "test_GNN",
          "locked": true,
          "points": 1,
          "schema_version": 3,
          "solution": false,
          "task": false
        },
        "id": "gNVvKqlRGT-C"
      },
      "source": [
        "# Test of the forward function\n",
        "tests.test_GNN_forward(GNN)"
      ],
      "execution_count": null,
      "outputs": []
    },
    {
      "cell_type": "markdown",
      "metadata": {
        "deletable": false,
        "editable": false,
        "nbgrader": {
          "cell_type": "markdown",
          "checksum": "d1bd48c6aa150d63000c006bdea924c6",
          "grade": false,
          "grade_id": "cell-7ade147639f9842c",
          "locked": true,
          "schema_version": 3,
          "solution": false,
          "task": false
        },
        "id": "R63sgxikGT-T"
      },
      "source": [
        "## Train the network"
      ]
    },
    {
      "cell_type": "markdown",
      "metadata": {
        "deletable": false,
        "editable": false,
        "nbgrader": {
          "cell_type": "markdown",
          "checksum": "c9d9eb5aa6874ce9ed806494adefd69f",
          "grade": false,
          "grade_id": "cell-329b929c7fb52923",
          "locked": true,
          "schema_version": 3,
          "solution": false,
          "task": false
        },
        "id": "fdss4uO6GT-U"
      },
      "source": [
        "### Training loop\n",
        "\n",
        "Your task is to implement the training loop. The recommended hyperparameters:\n",
        "* Adam optimizer with learning rate 0.001\n",
        "* 30 epochs is usually enough for training to converge.\n",
        "* The loss should be the mean of the classification losses computed at **every** GNN iteration. This way you encourage the GNN to find the correct solution with as few iterations as possible.\n",
        "\n",
        "Hints:\n",
        "* The training loss at convergence can reach 0.25. The classification loss computed after the **last** GNN iteration should be close to 0.\n",
        "* The fraction of solved test puzzles is usually close to 1 (we will use the threshold of 0.93 in the tests).\n",
        "* We recommend you to track the fraction of solved puzzles in the test set using the function below."
      ]
    },
    {
      "cell_type": "code",
      "metadata": {
        "deletable": false,
        "editable": false,
        "nbgrader": {
          "cell_type": "code",
          "checksum": "f136befec210d74c77cdb29f0be2b953",
          "grade": false,
          "grade_id": "cell-1a6cd2d477b9cf68",
          "locked": true,
          "schema_version": 3,
          "solution": false,
          "task": false
        },
        "id": "Vq8GGMldGT-V",
        "colab": {
          "base_uri": "https://localhost:8080/",
          "height": 208
        },
        "outputId": "cbd5c3f9-9bb4-4d84-ec33-933e24947fa4"
      },
      "source": [
        "# Create network\n",
        "gnn = GNN()\n",
        "gnn.to(device)"
      ],
      "execution_count": null,
      "outputs": [
        {
          "output_type": "execute_result",
          "data": {
            "text/plain": [
              "GNN(\n",
              "  (msg_net): Sequential(\n",
              "    (0): Linear(in_features=20, out_features=96, bias=True)\n",
              "    (1): ReLU()\n",
              "    (2): Linear(in_features=96, out_features=96, bias=True)\n",
              "    (3): ReLU()\n",
              "    (4): Linear(in_features=96, out_features=11, bias=True)\n",
              "  )\n",
              "  (gru): GRU(20, 10)\n",
              "  (out): Linear(in_features=10, out_features=9, bias=True)\n",
              ")"
            ]
          },
          "metadata": {
            "tags": []
          },
          "execution_count": 33
        }
      ]
    },
    {
      "cell_type": "code",
      "metadata": {
        "deletable": false,
        "editable": false,
        "nbgrader": {
          "cell_type": "code",
          "checksum": "070a0e968197e35da0c9caf76e5aa35d",
          "grade": false,
          "grade_id": "cell-22f6f3447eba7ab0",
          "locked": true,
          "schema_version": 3,
          "solution": false,
          "task": false
        },
        "id": "N8_Fr5TbGT-a"
      },
      "source": [
        "def fraction_of_solved_puzzles(gnn, testloader):\n",
        "    with torch.no_grad():\n",
        "        n_test = 0\n",
        "        n_test_solved = 0\n",
        "        for i, (inputs, targets, src_ids, dst_ids) in enumerate(testloader):\n",
        "            # inputs is [n_nodes, 9*9, 9]\n",
        "            # targets is [n_nodes]\n",
        "            batch_size = inputs.size(0) // 81\n",
        "            inputs, targets = inputs.to(device), targets.to(device)\n",
        "            src_ids, dst_ids = src_ids.to(device), dst_ids.to(device)\n",
        "\n",
        "            outputs = gnn(inputs, src_ids, dst_ids)  # [n_iters, batch*n_nodes, 9]\n",
        "            solution = outputs.view(gnn.n_iters, batch_size, 9, 9, 9)\n",
        "\n",
        "            final_solution = solution[-1].argmax(dim=3)\n",
        "            solved = (final_solution.view(-1, 81) == targets.view(batch_size, 81)).all(dim=1)\n",
        "            n_test += solved.size(0)\n",
        "            n_test_solved += solved.sum().item()\n",
        "            return n_test_solved / n_test"
      ],
      "execution_count": null,
      "outputs": []
    },
    {
      "cell_type": "code",
      "metadata": {
        "deletable": false,
        "nbgrader": {
          "cell_type": "code",
          "checksum": "cc19846a8d8839a111f004d38b6dc7af",
          "grade": false,
          "grade_id": "training_loop",
          "locked": false,
          "schema_version": 3,
          "solution": true,
          "task": false
        },
        "id": "tfjAxBntGT-f",
        "colab": {
          "base_uri": "https://localhost:8080/",
          "height": 1000
        },
        "outputId": "fcb8fe8b-7c6f-4144-c68c-67a132c0c5f6"
      },
      "source": [
        "# Implement the training loop here\n",
        "if not skip_training:\n",
        "    # YOUR CODE HERE\n",
        "    opt = optim.Adam(gnn.parameters(), lr=0.001)\n",
        "    \n",
        "    for epoch in range(30):\n",
        "        \n",
        "        epoch_loss = 0\n",
        "        print(f'epoch #{epoch}')\n",
        "        for i, (inputs, targets, src_ids, dst_ids) in enumerate(trainloader):\n",
        "            opt.zero_grad()\n",
        "            outputs = gnn(inputs, src_ids, dst_ids)\n",
        "            \n",
        "            loss = reduce(\n",
        "                lambda acc, out: \n",
        "                    acc + F.cross_entropy(out, targets),\n",
        "                outputs[:],\n",
        "                torch.tensor([0]).to(device)\n",
        "            )\n",
        "            loss = loss / outputs.size()[0]\n",
        "            \n",
        "            loss.backward()\n",
        "            opt.step()\n",
        "            \n",
        "            with torch.no_grad():\n",
        "                epoch_loss += loss.item()\n",
        "            \n",
        "            if i % 50 == 0:\n",
        "                print(f'\\t{i}: {loss.item()}')\n",
        "            \n",
        "        epoch_loss = epoch_loss/len(trainloader)\n",
        "        frac = fraction_of_solved_puzzles(gnn, testloader)\n",
        "        print(f'-- #{epoch} --\\nepoch loss: {epoch_loss}\\nfrac: {frac}')\n"
      ],
      "execution_count": null,
      "outputs": [
        {
          "output_type": "stream",
          "text": [
            "epoch #0\n",
            "\t0: 2.269587993621826\n",
            "\t50: 1.8568735122680664\n",
            "\t100: 1.600866675376892\n",
            "\t150: 1.4474939107894897\n",
            "\t200: 1.3471885919570923\n",
            "\t250: 1.2808135747909546\n",
            "\t300: 1.2130714654922485\n",
            "\t350: 1.1998971700668335\n",
            "\t400: 1.1380541324615479\n",
            "\t450: 1.0604114532470703\n",
            "\t500: 0.9906877279281616\n",
            "\t550: 0.9596119523048401\n",
            "-- #0 --\n",
            "epoch loss: 1.3370491933229762\n",
            "frac: 0.0\n",
            "epoch #1\n",
            "\t0: 0.9928969144821167\n",
            "\t50: 0.9320057034492493\n",
            "\t100: 0.8485294580459595\n",
            "\t150: 0.8291347026824951\n",
            "\t200: 0.782257616519928\n",
            "\t250: 0.7180353403091431\n",
            "\t300: 0.8677124977111816\n",
            "\t350: 0.7101278901100159\n",
            "\t400: 0.6370638608932495\n",
            "\t450: 0.5917770266532898\n",
            "\t500: 0.5678578615188599\n",
            "\t550: 0.5550785660743713\n",
            "-- #1 --\n",
            "epoch loss: 0.7883078672957886\n",
            "frac: 0.0\n",
            "epoch #2\n",
            "\t0: 0.5795042514801025\n",
            "\t50: 0.5435123443603516\n",
            "\t100: 0.5096887350082397\n",
            "\t150: 0.508338451385498\n",
            "\t200: 0.4843829870223999\n",
            "\t250: 0.4520292580127716\n",
            "\t300: 0.49775418639183044\n",
            "\t350: 0.423946738243103\n",
            "\t400: 0.4345519542694092\n",
            "\t450: 0.3916172683238983\n",
            "\t500: 0.3874177038669586\n",
            "\t550: 0.3625744879245758\n",
            "-- #2 --\n",
            "epoch loss: 0.46390961144999543\n",
            "frac: 0.5\n",
            "epoch #3\n",
            "\t0: 0.3902699053287506\n",
            "\t50: 0.3685963451862335\n",
            "\t100: 0.37568897008895874\n",
            "\t150: 0.33710628747940063\n",
            "\t200: 0.3421751856803894\n",
            "\t250: 0.3179175853729248\n",
            "\t300: 0.33824989199638367\n",
            "\t350: 0.3125988841056824\n",
            "\t400: 0.31935641169548035\n",
            "\t450: 0.31220850348472595\n",
            "\t500: 0.30988818407058716\n",
            "\t550: 0.3142823576927185\n",
            "-- #3 --\n",
            "epoch loss: 0.33421784988728553\n",
            "frac: 0.8125\n",
            "epoch #4\n",
            "\t0: 0.3269544839859009\n",
            "\t50: 0.31247764825820923\n",
            "\t100: 0.31543204188346863\n",
            "\t150: 0.29846808314323425\n",
            "\t200: 0.3064516484737396\n",
            "\t250: 0.28932327032089233\n",
            "\t300: 0.31850871443748474\n",
            "\t350: 0.2901453673839569\n",
            "\t400: 0.2954917550086975\n",
            "\t450: 0.2906041741371155\n",
            "\t500: 0.2856927514076233\n",
            "\t550: 0.29549890756607056\n",
            "-- #4 --\n",
            "epoch loss: 0.30149446091685794\n",
            "frac: 0.875\n",
            "epoch #5\n",
            "\t0: 0.3000907003879547\n",
            "\t50: 0.2950279712677002\n",
            "\t100: 0.29689452052116394\n",
            "\t150: 0.2885821759700775\n",
            "\t200: 0.2899433374404907\n",
            "\t250: 0.2767651677131653\n",
            "\t300: 0.30690643191337585\n",
            "\t350: 0.27837833762168884\n",
            "\t400: 0.28617221117019653\n",
            "\t450: 0.2813877463340759\n",
            "\t500: 0.27780425548553467\n",
            "\t550: 0.28528499603271484\n",
            "-- #5 --\n",
            "epoch loss: 0.2890016207898277\n",
            "frac: 0.875\n",
            "epoch #6\n",
            "\t0: 0.29251813888549805\n",
            "\t50: 0.2888811528682709\n",
            "\t100: 0.2898327112197876\n",
            "\t150: 0.28425097465515137\n",
            "\t200: 0.2821165919303894\n",
            "\t250: 0.27031517028808594\n",
            "\t300: 0.298080176115036\n",
            "\t350: 0.2697365880012512\n",
            "\t400: 0.2795391082763672\n",
            "\t450: 0.2745230793952942\n",
            "\t500: 0.2708542048931122\n",
            "\t550: 0.2827654182910919\n",
            "-- #6 --\n",
            "epoch loss: 0.28119540045147046\n",
            "frac: 0.875\n",
            "epoch #7\n",
            "\t0: 0.2853795289993286\n",
            "\t50: 0.2838255763053894\n",
            "\t100: 0.2824399769306183\n",
            "\t150: 0.278912752866745\n",
            "\t200: 0.273970365524292\n",
            "\t250: 0.26447755098342896\n",
            "\t300: 0.29252302646636963\n",
            "\t350: 0.2642694115638733\n",
            "\t400: 0.2748628556728363\n",
            "\t450: 0.2702537775039673\n",
            "\t500: 0.2668471038341522\n",
            "\t550: 0.2769938111305237\n",
            "-- #7 --\n",
            "epoch loss: 0.27583343521104614\n",
            "frac: 0.875\n",
            "epoch #8\n",
            "\t0: 0.28052979707717896\n",
            "\t50: 0.27633363008499146\n",
            "\t100: 0.2761906385421753\n",
            "\t150: 0.27245768904685974\n",
            "\t200: 0.2702930271625519\n",
            "\t250: 0.26131004095077515\n",
            "\t300: 0.28791242837905884\n",
            "\t350: 0.2617194652557373\n",
            "\t400: 0.27019649744033813\n",
            "\t450: 0.2666902542114258\n",
            "\t500: 0.2624974846839905\n",
            "\t550: 0.27040812373161316\n",
            "-- #8 --\n",
            "epoch loss: 0.2717606445400584\n",
            "frac: 0.875\n",
            "epoch #9\n",
            "\t0: 0.27836960554122925\n",
            "\t50: 0.2739921510219574\n",
            "\t100: 0.2691793441772461\n",
            "\t150: 0.2687396705150604\n",
            "\t200: 0.2659713625907898\n",
            "\t250: 0.2596959173679352\n",
            "\t300: 0.2805718779563904\n",
            "\t350: 0.2590479850769043\n",
            "\t400: 0.2678624093532562\n",
            "\t450: 0.26433780789375305\n",
            "\t500: 0.25854215025901794\n",
            "\t550: 0.2666934132575989\n",
            "-- #9 --\n",
            "epoch loss: 0.26821857320267184\n",
            "frac: 0.875\n",
            "epoch #10\n",
            "\t0: 0.27361464500427246\n",
            "\t50: 0.2731991410255432\n",
            "\t100: 0.2653351128101349\n",
            "\t150: 0.2675377130508423\n",
            "\t200: 0.26292896270751953\n",
            "\t250: 0.2592485845088959\n",
            "\t300: 0.27697449922561646\n",
            "\t350: 0.2565191388130188\n",
            "\t400: 0.2645805776119232\n",
            "\t450: 0.2614196538925171\n",
            "\t500: 0.2559124231338501\n",
            "\t550: 0.2633206844329834\n",
            "-- #10 --\n",
            "epoch loss: 0.2654557503878964\n",
            "frac: 0.875\n",
            "epoch #11\n",
            "\t0: 0.2726207375526428\n",
            "\t50: 0.26941415667533875\n",
            "\t100: 0.26298022270202637\n",
            "\t150: 0.26589447259902954\n",
            "\t200: 0.2600958049297333\n",
            "\t250: 0.25578656792640686\n",
            "\t300: 0.2711837887763977\n",
            "\t350: 0.25375157594680786\n",
            "\t400: 0.26269736886024475\n",
            "\t450: 0.26082146167755127\n",
            "\t500: 0.2529204189777374\n",
            "\t550: 0.2603524923324585\n",
            "-- #11 --\n",
            "epoch loss: 0.2630893917850237\n",
            "frac: 0.9375\n",
            "epoch #12\n",
            "\t0: 0.2702750861644745\n",
            "\t50: 0.2688855826854706\n",
            "\t100: 0.2623779773712158\n",
            "\t150: 0.26407521963119507\n",
            "\t200: 0.259231835603714\n",
            "\t250: 0.2541293799877167\n",
            "\t300: 0.2666192948818207\n",
            "\t350: 0.2526787221431732\n",
            "\t400: 0.26041144132614136\n",
            "\t450: 0.2589007019996643\n",
            "\t500: 0.25051170587539673\n",
            "\t550: 0.2583119571208954\n",
            "-- #12 --\n",
            "epoch loss: 0.2608550987330466\n",
            "frac: 1.0\n",
            "epoch #13\n",
            "\t0: 0.2675524950027466\n",
            "\t50: 0.26585161685943604\n",
            "\t100: 0.26047492027282715\n",
            "\t150: 0.2605724334716797\n",
            "\t200: 0.25669366121292114\n",
            "\t250: 0.25289386510849\n",
            "\t300: 0.26433461904525757\n",
            "\t350: 0.2508484125137329\n",
            "\t400: 0.2588688135147095\n",
            "\t450: 0.2588388919830322\n",
            "\t500: 0.24932654201984406\n",
            "\t550: 0.2575894594192505\n",
            "-- #13 --\n",
            "epoch loss: 0.25902825006371494\n",
            "frac: 1.0\n",
            "epoch #14\n",
            "\t0: 0.2659797668457031\n",
            "\t50: 0.2628374695777893\n",
            "\t100: 0.2574840486049652\n",
            "\t150: 0.2584550380706787\n",
            "\t200: 0.254576712846756\n",
            "\t250: 0.2525731921195984\n",
            "\t300: 0.26233673095703125\n",
            "\t350: 0.24988992512226105\n",
            "\t400: 0.2558579742908478\n",
            "\t450: 0.25532907247543335\n",
            "\t500: 0.24805602431297302\n",
            "\t550: 0.257002055644989\n",
            "-- #14 --\n",
            "epoch loss: 0.2573862381769116\n",
            "frac: 1.0\n",
            "epoch #15\n",
            "\t0: 0.2655946910381317\n",
            "\t50: 0.26217809319496155\n",
            "\t100: 0.2566312253475189\n",
            "\t150: 0.2582302987575531\n",
            "\t200: 0.2534468173980713\n",
            "\t250: 0.2501896023750305\n",
            "\t300: 0.2594786584377289\n",
            "\t350: 0.24856151640415192\n",
            "\t400: 0.25585052371025085\n",
            "\t450: 0.25443607568740845\n",
            "\t500: 0.24543720483779907\n",
            "\t550: 0.2561165988445282\n",
            "-- #15 --\n",
            "epoch loss: 0.2558941204583878\n",
            "frac: 1.0\n",
            "epoch #16\n",
            "\t0: 0.26512137055397034\n",
            "\t50: 0.2605309784412384\n",
            "\t100: 0.255905419588089\n",
            "\t150: 0.2558424770832062\n",
            "\t200: 0.25240978598594666\n",
            "\t250: 0.24902087450027466\n",
            "\t300: 0.2579983174800873\n",
            "\t350: 0.24791091680526733\n",
            "\t400: 0.25409838557243347\n",
            "\t450: 0.25310587882995605\n",
            "\t500: 0.2457861304283142\n",
            "\t550: 0.2537791132926941\n",
            "-- #16 --\n",
            "epoch loss: 0.2545883942190326\n",
            "frac: 1.0\n",
            "epoch #17\n",
            "\t0: 0.26363441348075867\n",
            "\t50: 0.2614494264125824\n",
            "\t100: 0.2549703121185303\n",
            "\t150: 0.2571869194507599\n",
            "\t200: 0.25251084566116333\n",
            "\t250: 0.24745860695838928\n",
            "\t300: 0.25779688358306885\n",
            "\t350: 0.24649257957935333\n",
            "\t400: 0.2525826692581177\n",
            "\t450: 0.25563251972198486\n",
            "\t500: 0.24396063387393951\n",
            "\t550: 0.2522364854812622\n",
            "-- #17 --\n",
            "epoch loss: 0.2541406658837046\n",
            "frac: 1.0\n",
            "epoch #18\n",
            "\t0: 0.26297304034233093\n",
            "\t50: 0.25775662064552307\n",
            "\t100: 0.2531638741493225\n",
            "\t150: 0.254101037979126\n",
            "\t200: 0.2526701092720032\n",
            "\t250: 0.24696722626686096\n",
            "\t300: 0.2558545172214508\n",
            "\t350: 0.24561519920825958\n",
            "\t400: 0.2516278624534607\n",
            "\t450: 0.2508351504802704\n",
            "\t500: 0.24380235373973846\n",
            "\t550: 0.25209829211235046\n",
            "-- #18 --\n",
            "epoch loss: 0.25291332303418995\n",
            "frac: 1.0\n",
            "epoch #19\n",
            "\t0: 0.2621097266674042\n",
            "\t50: 0.25754091143608093\n",
            "\t100: 0.25171929597854614\n",
            "\t150: 0.2536452114582062\n",
            "\t200: 0.25173166394233704\n",
            "\t250: 0.24632300436496735\n",
            "\t300: 0.255785197019577\n",
            "\t350: 0.24502499401569366\n",
            "\t400: 0.25013288855552673\n",
            "\t450: 0.25048381090164185\n",
            "\t500: 0.2428564429283142\n",
            "\t550: 0.2516956329345703\n",
            "-- #19 --\n",
            "epoch loss: 0.25198770249609836\n",
            "frac: 0.9375\n",
            "epoch #20\n",
            "\t0: 0.2613135278224945\n",
            "\t50: 0.25655508041381836\n",
            "\t100: 0.25150763988494873\n",
            "\t150: 0.252290278673172\n",
            "\t200: 0.2505274713039398\n",
            "\t250: 0.2464388608932495\n",
            "\t300: 0.25466063618659973\n",
            "\t350: 0.24464237689971924\n",
            "\t400: 0.25345107913017273\n",
            "\t450: 0.25038987398147583\n",
            "\t500: 0.24271656572818756\n",
            "\t550: 0.2511438727378845\n",
            "-- #20 --\n",
            "epoch loss: 0.2517175927467075\n",
            "frac: 1.0\n",
            "epoch #21\n",
            "\t0: 0.26069116592407227\n",
            "\t50: 0.2561361491680145\n",
            "\t100: 0.25182533264160156\n",
            "\t150: 0.2518775463104248\n",
            "\t200: 0.25049400329589844\n",
            "\t250: 0.2456023097038269\n",
            "\t300: 0.2546485960483551\n",
            "\t350: 0.2441146820783615\n",
            "\t400: 0.24913541972637177\n",
            "\t450: 0.24923017621040344\n",
            "\t500: 0.24255110323429108\n",
            "\t550: 0.2505028247833252\n",
            "-- #21 --\n",
            "epoch loss: 0.2509816564209296\n",
            "frac: 0.9375\n",
            "epoch #22\n",
            "\t0: 0.2597334384918213\n",
            "\t50: 0.25609681010246277\n",
            "\t100: 0.2503315806388855\n",
            "\t150: 0.2513754367828369\n",
            "\t200: 0.2500712275505066\n",
            "\t250: 0.2448941022157669\n",
            "\t300: 0.2544570863246918\n",
            "\t350: 0.24386557936668396\n",
            "\t400: 0.24898481369018555\n",
            "\t450: 0.24877239763736725\n",
            "\t500: 0.2422446459531784\n",
            "\t550: 0.25012946128845215\n",
            "-- #22 --\n",
            "epoch loss: 0.25057228407152593\n",
            "frac: 1.0\n",
            "epoch #23\n",
            "\t0: 0.25884899497032166\n",
            "\t50: 0.25554269552230835\n",
            "\t100: 0.24918165802955627\n",
            "\t150: 0.2511982023715973\n",
            "\t200: 0.24960319697856903\n",
            "\t250: 0.2443927526473999\n",
            "\t300: 0.25401392579078674\n",
            "\t350: 0.24333970248699188\n",
            "\t400: 0.2480810433626175\n",
            "\t450: 0.24847082793712616\n",
            "\t500: 0.24191778898239136\n",
            "\t550: 0.24992528557777405\n",
            "-- #23 --\n",
            "epoch loss: 0.2500231167298227\n",
            "frac: 1.0\n",
            "epoch #24\n",
            "\t0: 0.2589949369430542\n",
            "\t50: 0.25492843985557556\n",
            "\t100: 0.25042933225631714\n",
            "\t150: 0.25075510144233704\n",
            "\t200: 0.249389186501503\n",
            "\t250: 0.24361804127693176\n",
            "\t300: 0.25301414728164673\n",
            "\t350: 0.2433234453201294\n",
            "\t400: 0.24737955629825592\n",
            "\t450: 0.24790866672992706\n",
            "\t500: 0.24120500683784485\n",
            "\t550: 0.24927906692028046\n",
            "-- #24 --\n",
            "epoch loss: 0.24974959059146962\n",
            "frac: 1.0\n",
            "epoch #25\n",
            "\t0: 0.25859034061431885\n",
            "\t50: 0.2552397847175598\n",
            "\t100: 0.24850304424762726\n",
            "\t150: 0.25121834874153137\n",
            "\t200: 0.25139161944389343\n",
            "\t250: 0.24370448291301727\n",
            "\t300: 0.2531402111053467\n",
            "\t350: 0.24344947934150696\n",
            "\t400: 0.24703755974769592\n",
            "\t450: 0.24797691404819489\n",
            "\t500: 0.24123066663742065\n",
            "\t550: 0.2493574619293213\n",
            "-- #25 --\n",
            "epoch loss: 0.2496066099267658\n",
            "frac: 1.0\n",
            "epoch #26\n",
            "\t0: 0.25821876525878906\n",
            "\t50: 0.25480204820632935\n",
            "\t100: 0.24767102301120758\n",
            "\t150: 0.2506938874721527\n",
            "\t200: 0.24846920371055603\n",
            "\t250: 0.24293214082717896\n",
            "\t300: 0.2529764771461487\n",
            "\t350: 0.2421294003725052\n",
            "\t400: 0.24707679450511932\n",
            "\t450: 0.24678677320480347\n",
            "\t500: 0.24138358235359192\n",
            "\t550: 0.24876907467842102\n",
            "-- #26 --\n",
            "epoch loss: 0.24899600792947502\n",
            "frac: 1.0\n",
            "epoch #27\n",
            "\t0: 0.2574198246002197\n",
            "\t50: 0.25471752882003784\n",
            "\t100: 0.2476826310157776\n",
            "\t150: 0.2501729428768158\n",
            "\t200: 0.2488970011472702\n",
            "\t250: 0.24311590194702148\n",
            "\t300: 0.25249797105789185\n",
            "\t350: 0.24236872792243958\n",
            "\t400: 0.24650652706623077\n",
            "\t450: 0.2467491179704666\n",
            "\t500: 0.24142369627952576\n",
            "\t550: 0.24831387400627136\n",
            "-- #27 --\n",
            "epoch loss: 0.24866667318407637\n",
            "frac: 1.0\n",
            "epoch #28\n",
            "\t0: 0.2574540376663208\n",
            "\t50: 0.25468534231185913\n",
            "\t100: 0.24755936861038208\n",
            "\t150: 0.24954403936862946\n",
            "\t200: 0.24863485991954803\n",
            "\t250: 0.24358254671096802\n",
            "\t300: 0.25243720412254333\n",
            "\t350: 0.24191677570343018\n",
            "\t400: 0.24603326618671417\n",
            "\t450: 0.2463226020336151\n",
            "\t500: 0.24124623835086823\n",
            "\t550: 0.2478046864271164\n",
            "-- #28 --\n",
            "epoch loss: 0.24843711730218485\n",
            "frac: 1.0\n",
            "epoch #29\n",
            "\t0: 0.25704047083854675\n",
            "\t50: 0.2540264427661896\n",
            "\t100: 0.24748054146766663\n",
            "\t150: 0.24919132888317108\n",
            "\t200: 0.2488122582435608\n",
            "\t250: 0.24217253923416138\n",
            "\t300: 0.25197720527648926\n",
            "\t350: 0.2419702708721161\n",
            "\t400: 0.24586763978004456\n",
            "\t450: 0.24615256488323212\n",
            "\t500: 0.24118128418922424\n",
            "\t550: 0.2479906976222992\n",
            "-- #29 --\n",
            "epoch loss: 0.24818352743533323\n",
            "frac: 1.0\n"
          ],
          "name": "stdout"
        }
      ]
    },
    {
      "cell_type": "code",
      "metadata": {
        "deletable": false,
        "editable": false,
        "nbgrader": {
          "cell_type": "code",
          "checksum": "35a9ba58ab03188089a30d64e8c4bdaa",
          "grade": false,
          "grade_id": "cell-7b664d9672add5d3",
          "locked": true,
          "schema_version": 3,
          "solution": false,
          "task": false
        },
        "id": "SIF-eBP2GT-j"
      },
      "source": [
        "# Save the model to disk (the pth-files will be submitted automatically together with your notebook)\n",
        "if not skip_training:\n",
        "    tools.save_model(gnn, '7_gnn.pth')\n",
        "else:\n",
        "    gnn = GNN()\n",
        "    tools.load_model(gnn, '7_gnn.pth', device)"
      ],
      "execution_count": null,
      "outputs": []
    },
    {
      "cell_type": "markdown",
      "metadata": {
        "deletable": false,
        "editable": false,
        "nbgrader": {
          "cell_type": "markdown",
          "checksum": "3612e3450979bdecf32aae43ff0b434f",
          "grade": false,
          "grade_id": "cell-3f1e85b8a2af78bb",
          "locked": true,
          "schema_version": 3,
          "solution": false,
          "task": false
        },
        "id": "Iz2W8u5ZGT-n"
      },
      "source": [
        "## Evaluate the trained model"
      ]
    },
    {
      "cell_type": "code",
      "metadata": {
        "deletable": false,
        "editable": false,
        "nbgrader": {
          "cell_type": "code",
          "checksum": "73435e67216769af33707a90cf811590",
          "grade": false,
          "grade_id": "cell-32f91b6a282d0245",
          "locked": true,
          "schema_version": 3,
          "solution": false,
          "task": false
        },
        "id": "Toy9SeoKGT-n"
      },
      "source": [
        "# Get graph iterations for some test puzzles\n",
        "with torch.no_grad():\n",
        "    inputs, targets, src_ids, dst_ids = iter(testloader).next()\n",
        "    inputs, targets = inputs.to(device), targets.to(device)\n",
        "    src_ids, dst_ids = src_ids.to(device), dst_ids.to(device)\n",
        "\n",
        "    batch_size = inputs.size(0) // 81\n",
        "    outputs = gnn(inputs, src_ids, dst_ids)  # [n_iters, n_nodes, 9]\n",
        "\n",
        "    solution = outputs.view(gnn.n_iters, batch_size, 9, 9, 9)\n",
        "    final_solution = solution[-1].argmax(dim=3)\n",
        "    print('Solved puzzles in the current mini-batch:')\n",
        "    print((final_solution.view(-1, 81) == targets.view(batch_size, 81)).all(dim=1))"
      ],
      "execution_count": null,
      "outputs": []
    },
    {
      "cell_type": "code",
      "metadata": {
        "deletable": false,
        "editable": false,
        "nbgrader": {
          "cell_type": "code",
          "checksum": "92d62e9db18cb4f608d557bf65ce095f",
          "grade": false,
          "grade_id": "cell-f26db64afdc81028",
          "locked": true,
          "schema_version": 3,
          "solution": false,
          "task": false
        },
        "id": "CKQuWtsnGT-q"
      },
      "source": [
        "# Visualize graph iteration for one of the puzzles\n",
        "ix = 0\n",
        "for i in range(gnn.n_iters):\n",
        "    tools.draw_sudoku(solution[i, 0], logits=True)"
      ],
      "execution_count": null,
      "outputs": []
    },
    {
      "cell_type": "code",
      "metadata": {
        "deletable": false,
        "editable": false,
        "nbgrader": {
          "cell_type": "code",
          "checksum": "f49a402b83410a7447bbd7f21aa3da6d",
          "grade": true,
          "grade_id": "accuracy",
          "locked": true,
          "points": 2,
          "schema_version": 3,
          "solution": false,
          "task": false
        },
        "id": "fkJg3dLaGT-u"
      },
      "source": [
        "fraction_solved = fraction_of_solved_puzzles(gnn, testloader)\n",
        "assert fraction_solved > .93, \"Poor accuracy ({:.3f})\".format(fraction_solved)\n",
        "print('Success')"
      ],
      "execution_count": null,
      "outputs": []
    },
    {
      "cell_type": "markdown",
      "metadata": {
        "deletable": false,
        "editable": false,
        "nbgrader": {
          "cell_type": "markdown",
          "checksum": "d10aa730c1337214854a67435aa8b2b5",
          "grade": false,
          "grade_id": "cell-0bc01d506d94ba01",
          "locked": true,
          "schema_version": 3,
          "solution": false,
          "task": false
        },
        "id": "Xk5Iz17qGT-y"
      },
      "source": [
        "<div class=\"alert alert-block alert-info\">\n",
        "<b>Conclusions</b>\n",
        "</div>\n",
        "\n",
        "In this exercise, we learned how to train a simple graph neural network."
      ]
    }
  ]
}